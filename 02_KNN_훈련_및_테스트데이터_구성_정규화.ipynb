{
 "cells": [
  {
   "cell_type": "code",
   "execution_count": 1,
   "id": "98152e09",
   "metadata": {},
   "outputs": [],
   "source": [
    "### 데이터 수집\n",
    "fish_length = [25.4, 26.3, 26.5, 29.0, 29.0, 29.7, 29.7,\n",
    "                   30.0, 30.0, 30.7, 31.0, 31.0, 31.5, 32.0, \n",
    "                   32.0, 32.0, 33.0, 33.0, 33.5, 33.5, 34.0, \n",
    "                   34.0, 34.5, 35.0, 35.0, 35.0, 35.0, 36.0, \n",
    "                   36.0, 37.0, 38.5, 38.5, 39.5, 41.0, 41.0, \n",
    "                   9.8, 10.5, 10.6, 11.0, 11.2, 11.3, 11.8, \n",
    "                   11.8, 12.0, 12.2, 12.4, 13.0, 14.3, 15.0]\n",
    "fish_weight = [242.0, 290.0, 340.0, 363.0, 430.0, 450.0, \n",
    "                   500.0, 390.0, 450.0, 500.0, 475.0, 500.0, \n",
    "                   500.0, 340.0, 600.0, 600.0, 700.0, 700.0, \n",
    "                   610.0, 650.0, 575.0, 685.0, 620.0, 680.0, \n",
    "                   700.0, 725.0, 720.0, 714.0, 850.0, 1000.0, \n",
    "                   920.0, 955.0, 925.0, 975.0, 950.0, 6.7, 7.5, \n",
    "                   7.0, 9.7, 9.8, 8.7, 10.0, 9.9, 9.8, 12.2, 13.4, \n",
    "                   12.2, 19.7, 19.9]"
   ]
  },
  {
   "cell_type": "code",
   "execution_count": 2,
   "id": "d2498996",
   "metadata": {},
   "outputs": [
    {
     "name": "stdout",
     "output_type": "stream",
     "text": [
      "49 49\n"
     ]
    }
   ],
   "source": [
    "print(len(fish_length), len(fish_weight))"
   ]
  },
  {
   "cell_type": "code",
   "execution_count": 3,
   "id": "7fc6e690",
   "metadata": {},
   "outputs": [],
   "source": [
    "### 2차원 데이터\n",
    "### 변수 이름 : fish_data\n",
    "fish_data = [[l, w] for l, w in zip(fish_length, fish_weight)]"
   ]
  },
  {
   "cell_type": "code",
   "execution_count": 4,
   "id": "0bd7dcaa",
   "metadata": {},
   "outputs": [],
   "source": [
    "### 타겟(정답) 1차원 데이터 생성하기\n",
    "# - 변수명 : fish_target\n",
    "# - fish_data의 인덱스 순서에 맞게 0~34까지는 1로(35개)\n",
    "#                                         35~48까지는 0으로(14개)\n",
    "fish_target = [1] * 35 + [0] * 14"
   ]
  },
  {
   "cell_type": "markdown",
   "id": "5ceac335",
   "metadata": {},
   "source": [
    "### 위 데이터 변환을 넘파이 라이브러리 활용"
   ]
  },
  {
   "cell_type": "code",
   "execution_count": 5,
   "id": "b2c55bae",
   "metadata": {},
   "outputs": [],
   "source": [
    "### numpy 라이브러리 쓰는게 조금 더 빠름(데이터 많을 때)\n",
    "import numpy as np"
   ]
  },
  {
   "cell_type": "code",
   "execution_count": 6,
   "id": "8fb47c95",
   "metadata": {},
   "outputs": [
    {
     "data": {
      "text/plain": [
       "(49, 2)"
      ]
     },
     "execution_count": 6,
     "metadata": {},
     "output_type": "execute_result"
    }
   ],
   "source": [
    "### fish_data = [[l, w] for l, w in zip(fish_length, fish_weight)]\n",
    "# 넘파이 함수 column_stack() : 두 데이터를 하나의 리스트형태로 묶어서 만들기\n",
    "# - 튜플()형태로 감싸주어야 합니다.\n",
    "fish_data = np.column_stack((fish_length, fish_weight))\n",
    "fish_data.shape"
   ]
  },
  {
   "cell_type": "code",
   "execution_count": 7,
   "id": "19db6cfa",
   "metadata": {},
   "outputs": [
    {
     "data": {
      "text/plain": [
       "(49,)"
      ]
     },
     "execution_count": 7,
     "metadata": {},
     "output_type": "execute_result"
    }
   ],
   "source": [
    "### fish_target = [1] * 35 + [0] * 14\n",
    "# - concatenate() : 튜플에 있는 2개의 값 합치기\n",
    "# - ones(생성할 개수) : 1값을 개수만큼 배열로 생성시킴\n",
    "# - zeros(생성할 개수) : 0값을 개수만큼 배열로 생성시킴\n",
    "fish_target = np.concatenate((np.ones(35), np.zeros(14)))\n",
    "fish_target.shape"
   ]
  },
  {
   "cell_type": "code",
   "execution_count": 8,
   "id": "0e88c6a2",
   "metadata": {},
   "outputs": [],
   "source": [
    "### 데이터를 랜덤하게 섞어서, 훈련 및 테스트 데이터로 반환해주는 라이브러리 함수 사용"
   ]
  },
  {
   "cell_type": "code",
   "execution_count": 9,
   "id": "76019f41",
   "metadata": {},
   "outputs": [
    {
     "name": "stdout",
     "output_type": "stream",
     "text": [
      "(36, 2) (13, 2) (36,) (13,)\n"
     ]
    }
   ],
   "source": [
    "### 훈련 및 테스트데이터를 랜덤하게 섞어서 지정한 비율로 분류하기\n",
    "# - 무조건 기억하기(항상 사용될 예정..)\n",
    "from sklearn.model_selection import train_test_split\n",
    "\n",
    "### train_test_split(독립변수, 종속변수, 랜덤규칙, 분류비율)\n",
    "# - test_size : 정의된 비율로 분류시킴\n",
    "# - 훈련(75=0.75) : 테스트(25=0.25)\n",
    "\n",
    "# - stratify : 타겟의 비율을 기준으로 적절하게 편향을 조정해 줍니다.\n",
    "\n",
    "### 반환 순서 : 훈련독립변수, 테스트독립변수, 훈련종속변수, 테스트종속변수\n",
    "train_input, test_input, train_target, test_target = train_test_split(fish_data, fish_target, random_state=42, test_size=0.25, stratify=fish_target)\n",
    "\n",
    "print(train_input.shape, test_input.shape, train_target.shape, test_target.shape)"
   ]
  },
  {
   "cell_type": "code",
   "execution_count": 10,
   "id": "fe55e38a",
   "metadata": {},
   "outputs": [
    {
     "data": {
      "text/plain": [
       "array([1., 0., 1., 0., 1., 1., 1., 1., 1., 1., 1., 0., 1., 0., 1., 1., 1.,\n",
       "       1., 1., 0., 1., 1., 0., 1., 0., 1., 0., 1., 1., 1., 0., 1., 1., 0.,\n",
       "       1., 1.])"
      ]
     },
     "execution_count": 10,
     "metadata": {},
     "output_type": "execute_result"
    }
   ],
   "source": [
    "train_target"
   ]
  },
  {
   "cell_type": "code",
   "execution_count": 11,
   "id": "34c9ec5e",
   "metadata": {},
   "outputs": [
    {
     "data": {
      "text/plain": [
       "array([0., 0., 1., 0., 1., 0., 1., 1., 1., 1., 1., 1., 1.])"
      ]
     },
     "execution_count": 11,
     "metadata": {},
     "output_type": "execute_result"
    }
   ],
   "source": [
    "test_target"
   ]
  },
  {
   "cell_type": "markdown",
   "id": "d53bc14c",
   "metadata": {},
   "source": [
    "# 임의 생선 길이와 무게로 예측(생선이름)하기"
   ]
  },
  {
   "cell_type": "code",
   "execution_count": 12,
   "id": "d48dec9f",
   "metadata": {},
   "outputs": [],
   "source": [
    "from sklearn.neighbors import KNeighborsClassifier"
   ]
  },
  {
   "cell_type": "code",
   "execution_count": 13,
   "id": "c68747b4",
   "metadata": {},
   "outputs": [
    {
     "data": {
      "text/plain": [
       "1.0"
      ]
     },
     "execution_count": 13,
     "metadata": {},
     "output_type": "execute_result"
    }
   ],
   "source": [
    "### 훈련모델 생성\n",
    "kn = KNeighborsClassifier(n_neighbors=5)\n",
    "\n",
    "### 훈련시키기\n",
    "kn.fit(train_input, train_target)\n",
    "\n",
    "## 정확도(평가) 확인\n",
    "kn.score(test_input, test_target)"
   ]
  },
  {
   "cell_type": "code",
   "execution_count": 14,
   "id": "9ced98bd",
   "metadata": {},
   "outputs": [
    {
     "data": {
      "text/plain": [
       "array([0.])"
      ]
     },
     "execution_count": 14,
     "metadata": {},
     "output_type": "execute_result"
    }
   ],
   "source": [
    "### 임의의 길이와 무게로 생성 예측하기\n",
    "# 길이=25cm, 무게=150g\n",
    "# - 예측하기\n",
    "kn.predict([[25, 150]])"
   ]
  },
  {
   "cell_type": "code",
   "execution_count": 15,
   "id": "3bcc3b6b",
   "metadata": {},
   "outputs": [],
   "source": [
    "import matplotlib.pyplot as plt"
   ]
  },
  {
   "cell_type": "code",
   "execution_count": 16,
   "id": "0f9583e3",
   "metadata": {},
   "outputs": [
    {
     "data": {
      "image/png": "[encoded data removed]",
      "text/plain": [
       "<Figure size 640x480 with 1 Axes>"
      ]
     },
     "metadata": {},
     "output_type": "display_data"
    }
   ],
   "source": [
    "### 훈련 전체 데이터의 분포와 임의 데이터의 위치를 확인하기 위한\n",
    "#    - 산점도 시각화하기\n",
    "\n",
    "# - 훈련 데이터\n",
    "plt.scatter(train_input[:, 0], train_input[:, 1], c=\"blue\", label=\"train\")\n",
    "\n",
    "# - 임의 데이터\n",
    "plt.scatter(25, 150, marker=\"^\", c=\"red\", label=\"pred\")\n",
    "\n",
    "plt.xlabel(\"length\")\n",
    "plt.ylabel(\"weight\")\n",
    "\n",
    "plt.legend()\n",
    "\n",
    "plt.show()"
   ]
  },
  {
   "cell_type": "code",
   "execution_count": 17,
   "id": "33ef21bd",
   "metadata": {},
   "outputs": [
    {
     "data": {
      "text/plain": [
       "array([[21, 33, 19, 30,  1]], dtype=int64)"
      ]
     },
     "execution_count": 17,
     "metadata": {},
     "output_type": "execute_result"
    }
   ],
   "source": [
    "### 모델에서 사용한 이웃의 위치 확인하기\n",
    "# 첫번째 값 : 이웃과의 거리\n",
    "# 두번째 값 : 이웃의 위치 인덱스(훈련데이터의 인덱스값)\n",
    "distances, indexes = kn.kneighbors([[25, 150]])\n",
    "indexes"
   ]
  },
  {
   "cell_type": "code",
   "execution_count": 18,
   "id": "44f11fab",
   "metadata": {},
   "outputs": [
    {
     "data": {
      "image/png": "[encoded data removed]",
      "text/plain": [
       "<Figure size 640x480 with 1 Axes>"
      ]
     },
     "metadata": {},
     "output_type": "display_data"
    }
   ],
   "source": [
    "import matplotlib.pyplot as plt\n",
    "\n",
    "# - 훈련 데이터\n",
    "plt.scatter(train_input[:, 0], train_input[:, 1], c=\"blue\", label=\"train\")\n",
    "\n",
    "# - 임의 데이터\n",
    "plt.scatter(25, 150, marker=\"^\", c=\"red\", label=\"pred\")\n",
    "\n",
    "# - 이웃의 위치\n",
    "plt.scatter(train_input[indexes, 0], train_input[indexes, 1], marker=\"D\", c=\"green\", label=\"n\")\n",
    "\n",
    "plt.xlabel(\"length\")\n",
    "plt.ylabel(\"weight\")\n",
    "\n",
    "plt.legend()\n",
    "\n",
    "plt.show()\n",
    "\n",
    "### (해석)\n",
    "# - 예측결과는 빙어(0의 값)를 확인하였으나,\n",
    "# - 시각적으로 확인했을 때는 도미에 가까운 것으로 확인됨\n",
    "# - 이런 현상은 x축과 y축의 단위가 서로 다르기 때문에 일어남\n",
    "# - y축의 값의 범위가 매우 큼..\n",
    "# - y축으로의 높이가 조금이라도 커지면 거리는 매우 차이가 나게 됨\n",
    "# *** 이런 현상을 \"스케일이 다르다\"라고 표현합니다.\n",
    "\n",
    "### <스케일을 통일 시키기>\n",
    "# - x축과 y축의 값의 범위를 통일 시키면 됩니다.\n",
    "# *** 이러한 작업을 \"정규화\" 또는 \"표준화\" 작업이라고 합니다."
   ]
  },
  {
   "cell_type": "markdown",
   "id": "10dfad0f",
   "metadata": {},
   "source": [
    "### 정규화 작업"
   ]
  },
  {
   "cell_type": "code",
   "execution_count": 19,
   "id": "afaaafbb",
   "metadata": {},
   "outputs": [
    {
     "data": {
      "text/plain": [
       "'\\n<표준점수(standard score)화하기>\\n - 스케일을 맞추는 전처리 방법 중 한가지\\n - 표준점수 : 각 데이터가 원점(0)에서 몇 표준편차만큼 떨어져 있는지를 나타내는 값\\n - 표준점수 = (각 데이터 - 데이터셋 전체 평균) / 데이터셋 전체 표준편차\\n - 평균과 표준편차 계산은 모두 넘파이에서 제공하는 함수 사용..\\n'"
      ]
     },
     "execution_count": 19,
     "metadata": {},
     "output_type": "execute_result"
    }
   ],
   "source": [
    "\"\"\"\n",
    "<표준점수(standard score)화하기>\n",
    " - 스케일을 맞추는 전처리 방법 중 한가지\n",
    " - 표준점수 : 각 데이터가 원점(0)에서 몇 표준편차만큼 떨어져 있는지를 나타내는 값\n",
    " - 표준점수 = (각 데이터 - 데이터셋 전체 평균) / 데이터셋 전체 표준편차\n",
    " - 평균과 표준편차 계산은 모두 넘파이에서 제공하는 함수 사용..\n",
    "\"\"\""
   ]
  },
  {
   "cell_type": "code",
   "execution_count": 20,
   "id": "e32b8029",
   "metadata": {},
   "outputs": [
    {
     "data": {
      "text/plain": [
       "array([ 27.29722222, 454.09722222])"
      ]
     },
     "execution_count": 20,
     "metadata": {},
     "output_type": "execute_result"
    }
   ],
   "source": [
    "### 평균 구하기\n",
    "# - 훈련데이터의 각 특성(길이, 무게)마다 평균 구하기\n",
    "mean = np.mean(train_input, axis=0)\n",
    "mean"
   ]
  },
  {
   "cell_type": "code",
   "execution_count": 21,
   "id": "3e494c85",
   "metadata": {},
   "outputs": [
    {
     "data": {
      "text/plain": [
       "array([  9.98244253, 323.29893931])"
      ]
     },
     "execution_count": 21,
     "metadata": {},
     "output_type": "execute_result"
    }
   ],
   "source": [
    "### 표준편차 구하기\n",
    "# - 훈련데이터의 각 특성(길이, 무게)마다 표준편차 구하기\n",
    "std = np.std(train_input, axis=0)\n",
    "std"
   ]
  },
  {
   "cell_type": "code",
   "execution_count": 22,
   "id": "6617d5ef",
   "metadata": {},
   "outputs": [
    {
     "data": {
      "text/plain": [
       "array([[ 0.24070039,  0.14198246],\n",
       "       [-1.51237757, -1.36683783],\n",
       "       [ 0.5712808 ,  0.76060496],\n",
       "       [-1.60253587, -1.37766373],\n",
       "       [ 1.22242404,  1.45655528],\n",
       "       [ 0.17057727, -0.07453542],\n",
       "       [ 0.87180845,  0.80390854],\n",
       "       [ 0.87180845,  1.22457184],\n",
       "       [ 0.37092904,  0.06465464],\n",
       "       [ 0.77163257,  0.82246721],\n",
       "       [ 0.97198434,  1.68853872],\n",
       "       [-1.61255346, -1.3742613 ],\n",
       "       [ 0.72154463,  0.51315596],\n",
       "       [-1.53241275, -1.3742613 ],\n",
       "       [ 0.17057727, -0.28177396],\n",
       "       [ 0.5712808 ,  0.76060496],\n",
       "       [ 0.34087627,  0.14198246],\n",
       "       [ 1.12224816,  1.54934866],\n",
       "       [ 0.62136874,  0.60594934],\n",
       "       [-1.30200822, -1.34363949],\n",
       "       [ 0.42101698,  0.14198246],\n",
       "       [-0.19005591, -0.65604058],\n",
       "       [-1.75279969, -1.38384995],\n",
       "       [ 0.47110492,  0.45129371],\n",
       "       [-1.68267658, -1.38137546],\n",
       "       [ 0.62136874,  0.48222484],\n",
       "       [-1.67265899, -1.38292202],\n",
       "       [ 0.77163257,  0.76060496],\n",
       "       [ 0.47110492,  0.45129371],\n",
       "       [ 0.77163257,  0.83793278],\n",
       "       [-1.43223687, -1.36683783],\n",
       "       [ 0.27075315, -0.01267317],\n",
       "       [ 0.47110492, -0.35291555],\n",
       "       [-1.2318851 , -1.34302087],\n",
       "       [ 0.27075315, -0.19825992],\n",
       "       [ 1.37268787,  1.61121091]])"
      ]
     },
     "execution_count": 22,
     "metadata": {},
     "output_type": "execute_result"
    }
   ],
   "source": [
    "### 표준점수화 시키기 -> 정규화 시키기(데이터 일반화)\n",
    "# - 훈련데이터의 각 데이터를 표준점수화하기\n",
    "train_scaled = (train_input - mean) / std\n",
    "train_scaled"
   ]
  },
  {
   "cell_type": "code",
   "execution_count": 23,
   "id": "892d06f7",
   "metadata": {},
   "outputs": [
    {
     "data": {
      "image/png": "[encoded data removed]",
      "text/plain": [
       "<Figure size 640x480 with 1 Axes>"
      ]
     },
     "metadata": {},
     "output_type": "display_data"
    }
   ],
   "source": [
    "import matplotlib.pyplot as plt\n",
    "\n",
    "# - 훈련 데이터\n",
    "plt.scatter(train_scaled[:, 0], train_scaled[:, 1], c=\"blue\", label=\"train\")\n",
    "\n",
    "# - 임의 데이터\n",
    "plt.scatter(25, 150, marker=\"^\", c=\"red\", label=\"pred\")\n",
    "\n",
    "plt.xlabel(\"length\")\n",
    "plt.ylabel(\"weight\")\n",
    "\n",
    "plt.legend()\n",
    "\n",
    "plt.show()"
   ]
  },
  {
   "cell_type": "code",
   "execution_count": 24,
   "id": "e32afee2",
   "metadata": {},
   "outputs": [
    {
     "data": {
      "text/plain": [
       "array([-0.23012627, -0.94060693])"
      ]
     },
     "execution_count": 24,
     "metadata": {},
     "output_type": "execute_result"
    }
   ],
   "source": [
    "### 임의 예측하고자 하는 데이터가 있다면\n",
    "# -->> 정규화를 시킨 후 사용해야 합니다.\n",
    "new = ([25, 150] - mean) / std\n",
    "new"
   ]
  },
  {
   "cell_type": "code",
   "execution_count": 25,
   "id": "c4ce5f3e",
   "metadata": {},
   "outputs": [
    {
     "data": {
      "image/png": "[encoded data removed]",
      "text/plain": [
       "<Figure size 640x480 with 1 Axes>"
      ]
     },
     "metadata": {},
     "output_type": "display_data"
    }
   ],
   "source": [
    "import matplotlib.pyplot as plt\n",
    "\n",
    "# - 훈련 데이터\n",
    "plt.scatter(train_scaled[:, 0], train_scaled[:, 1], c=\"blue\", label=\"train\")\n",
    "\n",
    "# - 임의 데이터\n",
    "plt.scatter(new[0], new[1], marker=\"^\", c=\"red\", label=\"pred\")\n",
    "\n",
    "plt.xlabel(\"length\")\n",
    "plt.ylabel(\"weight\")\n",
    "\n",
    "plt.legend()\n",
    "\n",
    "plt.show()"
   ]
  },
  {
   "cell_type": "markdown",
   "id": "a0f45cb9",
   "metadata": {},
   "source": [
    "### 정규화 데이터로 예측하기"
   ]
  },
  {
   "cell_type": "code",
   "execution_count": 26,
   "id": "8128770d",
   "metadata": {},
   "outputs": [],
   "source": [
    "### 훈련모델 생성하기\n",
    "kn = KNeighborsClassifier(n_neighbors=5)"
   ]
  },
  {
   "cell_type": "code",
   "execution_count": 27,
   "id": "e6897def",
   "metadata": {
    "scrolled": true
   },
   "outputs": [
    {
     "data": {
      "text/html": [
       "<style>#sk-container-id-1 {color: black;}#sk-container-id-1 pre{padding: 0;}#sk-container-id-1 div.sk-toggleable {background-color: white;}#sk-container-id-1 label.sk-toggleable__label {cursor: pointer;display: block;width: 100%;margin-bottom: 0;padding: 0.3em;box-sizing: border-box;text-align: center;}#sk-container-id-1 label.sk-toggleable__label-arrow:before {content: \"▸\";float: left;margin-right: 0.25em;color: #696969;}#sk-container-id-1 label.sk-toggleable__label-arrow:hover:before {color: black;}#sk-container-id-1 div.sk-estimator:hover label.sk-toggleable__label-arrow:before {color: black;}#sk-container-id-1 div.sk-toggleable__content {max-height: 0;max-width: 0;overflow: hidden;text-align: left;background-color: #f0f8ff;}#sk-container-id-1 div.sk-toggleable__content pre {margin: 0.2em;color: black;border-radius: 0.25em;background-color: #f0f8ff;}#sk-container-id-1 input.sk-toggleable__control:checked~div.sk-toggleable__content {max-height: 200px;max-width: 100%;overflow: auto;}#sk-container-id-1 input.sk-toggleable__control:checked~label.sk-toggleable__label-arrow:before {content: \"▾\";}#sk-container-id-1 div.sk-estimator input.sk-toggleable__control:checked~label.sk-toggleable__label {background-color: #d4ebff;}#sk-container-id-1 div.sk-label input.sk-toggleable__control:checked~label.sk-toggleable__label {background-color: #d4ebff;}#sk-container-id-1 input.sk-hidden--visually {border: 0;clip: rect(1px 1px 1px 1px);clip: rect(1px, 1px, 1px, 1px);height: 1px;margin: -1px;overflow: hidden;padding: 0;position: absolute;width: 1px;}#sk-container-id-1 div.sk-estimator {font-family: monospace;background-color: #f0f8ff;border: 1px dotted black;border-radius: 0.25em;box-sizing: border-box;margin-bottom: 0.5em;}#sk-container-id-1 div.sk-estimator:hover {background-color: #d4ebff;}#sk-container-id-1 div.sk-parallel-item::after {content: \"\";width: 100%;border-bottom: 1px solid gray;flex-grow: 1;}#sk-container-id-1 div.sk-label:hover label.sk-toggleable__label {background-color: #d4ebff;}#sk-container-id-1 div.sk-serial::before {content: \"\";position: absolute;border-left: 1px solid gray;box-sizing: border-box;top: 0;bottom: 0;left: 50%;z-index: 0;}#sk-container-id-1 div.sk-serial {display: flex;flex-direction: column;align-items: center;background-color: white;padding-right: 0.2em;padding-left: 0.2em;position: relative;}#sk-container-id-1 div.sk-item {position: relative;z-index: 1;}#sk-container-id-1 div.sk-parallel {display: flex;align-items: stretch;justify-content: center;background-color: white;position: relative;}#sk-container-id-1 div.sk-item::before, #sk-container-id-1 div.sk-parallel-item::before {content: \"\";position: absolute;border-left: 1px solid gray;box-sizing: border-box;top: 0;bottom: 0;left: 50%;z-index: -1;}#sk-container-id-1 div.sk-parallel-item {display: flex;flex-direction: column;z-index: 1;position: relative;background-color: white;}#sk-container-id-1 div.sk-parallel-item:first-child::after {align-self: flex-end;width: 50%;}#sk-container-id-1 div.sk-parallel-item:last-child::after {align-self: flex-start;width: 50%;}#sk-container-id-1 div.sk-parallel-item:only-child::after {width: 0;}#sk-container-id-1 div.sk-dashed-wrapped {border: 1px dashed gray;margin: 0 0.4em 0.5em 0.4em;box-sizing: border-box;padding-bottom: 0.4em;background-color: white;}#sk-container-id-1 div.sk-label label {font-family: monospace;font-weight: bold;display: inline-block;line-height: 1.2em;}#sk-container-id-1 div.sk-label-container {text-align: center;}#sk-container-id-1 div.sk-container {/* jupyter's `normalize.less` sets `[hidden] { display: none; }` but bootstrap.min.css set `[hidden] { display: none !important; }` so we also need the `!important` here to be able to override the default hidden behavior on the sphinx rendered scikit-learn.org. See: https://github.com/scikit-learn/scikit-learn/issues/21755 */display: inline-block !important;position: relative;}#sk-container-id-1 div.sk-text-repr-fallback {display: none;}</style><div id=\"sk-container-id-1\" class=\"sk-top-container\"><div class=\"sk-text-repr-fallback\"><pre>KNeighborsClassifier()</pre><b>In a Jupyter environment, please rerun this cell to show the HTML representation or trust the notebook. <br />On GitHub, the HTML representation is unable to render, please try loading this page with nbviewer.org.</b></div><div class=\"sk-container\" hidden><div class=\"sk-item\"><div class=\"sk-estimator sk-toggleable\"><input class=\"sk-toggleable__control sk-hidden--visually\" id=\"sk-estimator-id-1\" type=\"checkbox\" checked><label for=\"sk-estimator-id-1\" class=\"sk-toggleable__label sk-toggleable__label-arrow\">KNeighborsClassifier</label><div class=\"sk-toggleable__content\"><pre>KNeighborsClassifier()</pre></div></div></div></div></div>"
      ],
      "text/plain": [
       "KNeighborsClassifier()"
      ]
     },
     "execution_count": 27,
     "metadata": {},
     "output_type": "execute_result"
    }
   ],
   "source": [
    "### 훈련시키기\n",
    "kn.fit(train_scaled, train_target)"
   ]
  },
  {
   "cell_type": "code",
   "execution_count": 28,
   "id": "7b54c239",
   "metadata": {},
   "outputs": [
    {
     "data": {
      "text/plain": [
       "1.0"
      ]
     },
     "execution_count": 28,
     "metadata": {},
     "output_type": "execute_result"
    }
   ],
   "source": [
    "### 정확도(평가) 확인하기\n",
    "# - 훈련시킬 때 사용한 데이터의 형태를 맞추어야 합니다.\n",
    "# - 테스트데이터도 정규화 진행..\n",
    "test_input = (test_input - mean) / std\n",
    "kn.score(test_input, test_target)"
   ]
  },
  {
   "cell_type": "code",
   "execution_count": 29,
   "id": "fe9e0498",
   "metadata": {},
   "outputs": [
    {
     "data": {
      "text/plain": [
       "array([1.])"
      ]
     },
     "execution_count": 29,
     "metadata": {},
     "output_type": "execute_result"
    }
   ],
   "source": [
    "### 임의 데이터로 예측하기\n",
    "# - 2차원으로 만들어서 넣어주어야 합니다.\n",
    "# - new는 1차원이므로, 리스트로 한번 더 감싸서 2차원으로 만들기\n",
    "kn.predict([new])"
   ]
  },
  {
   "cell_type": "code",
   "execution_count": 30,
   "id": "631d7768",
   "metadata": {},
   "outputs": [
    {
     "name": "stdout",
     "output_type": "stream",
     "text": [
      "[[0.2873737  0.7711188  0.89552179 0.91493515 0.95427626]]\n",
      "[[21 14 34 32  5]]\n"
     ]
    }
   ],
   "source": [
    "### 사용된 이웃의 거리와 값의 위치(인덱스) 확인하기\n",
    "distances, indexes = kn.kneighbors([new])\n",
    "print(distances)\n",
    "print(indexes)"
   ]
  },
  {
   "cell_type": "code",
   "execution_count": 31,
   "id": "4d6fa8ca",
   "metadata": {},
   "outputs": [
    {
     "data": {
      "image/png": "[encoded data removed]",
      "text/plain": [
       "<Figure size 640x480 with 1 Axes>"
      ]
     },
     "metadata": {},
     "output_type": "display_data"
    }
   ],
   "source": [
    "### 훈련데이터 전체 + 임의 데이터 + 이웃데이터 시각화하기\n",
    "import matplotlib.pyplot as plt\n",
    "\n",
    "# - 훈련 데이터\n",
    "plt.scatter(train_scaled[:, 0], train_scaled[:, 1], c=\"blue\", label=\"train\")\n",
    "\n",
    "# - 임의 데이터\n",
    "plt.scatter(new[0], new[1], marker=\"^\", c=\"red\", label=\"pred\")\n",
    "\n",
    "# - 이웃 데이터\n",
    "plt.scatter(train_scaled[indexes, 0], train_scaled[indexes, 1], marker=\"D\", c=\"green\", label=\"n\")\n",
    "\n",
    "plt.xlabel(\"length\")\n",
    "plt.ylabel(\"weight\")\n",
    "\n",
    "plt.grid()\n",
    "plt.legend()\n",
    "\n",
    "plt.show()"
   ]
  },
  {
   "cell_type": "code",
   "execution_count": null,
   "id": "8541ae49",
   "metadata": {},
   "outputs": [],
   "source": []
  },
  {
   "cell_type": "code",
   "execution_count": null,
   "id": "41359879",
   "metadata": {},
   "outputs": [],
   "source": []
  },
  {
   "cell_type": "code",
   "execution_count": null,
   "id": "77e73bef",
   "metadata": {},
   "outputs": [],
   "source": []
  },
  {
   "cell_type": "code",
   "execution_count": null,
   "id": "5ec9a4e2",
   "metadata": {},
   "outputs": [],
   "source": []
  },
  {
   "cell_type": "code",
   "execution_count": null,
   "id": "ded85173",
   "metadata": {},
   "outputs": [],
   "source": []
  },
  {
   "cell_type": "code",
   "execution_count": null,
   "id": "8e4e5f47",
   "metadata": {},
   "outputs": [],
   "source": []
  },
  {
   "cell_type": "code",
   "execution_count": null,
   "id": "3bcd2685",
   "metadata": {},
   "outputs": [],
   "source": []
  },
  {
   "cell_type": "code",
   "execution_count": null,
   "id": "84da8dcd",
   "metadata": {},
   "outputs": [],
   "source": []
  },
  {
   "cell_type": "code",
   "execution_count": null,
   "id": "10787f6a",
   "metadata": {},
   "outputs": [],
   "source": []
  },
  {
   "cell_type": "code",
   "execution_count": null,
   "id": "45986f6f",
   "metadata": {},
   "outputs": [],
   "source": []
  }
 ],
 "metadata": {
  "kernelspec": {
   "display_name": "edu_env_kernel",
   "language": "python",
   "name": "edu_env"
  },
  "language_info": {
   "codemirror_mode": {
    "name": "ipython",
    "version": 3
   },
   "file_extension": ".py",
   "mimetype": "text/x-python",
   "name": "python",
   "nbconvert_exporter": "python",
   "pygments_lexer": "ipython3",
   "version": "3.9.17"
  }
 },
 "nbformat": 4,
 "nbformat_minor": 5
}
