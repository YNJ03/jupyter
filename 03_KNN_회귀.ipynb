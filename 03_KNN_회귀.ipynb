{
 "cells": [
  {
   "cell_type": "code",
   "execution_count": 1,
   "id": "a5cb42cc",
   "metadata": {},
   "outputs": [
    {
     "data": {
      "text/plain": [
       "'\\n* 분류 : 종속변수의 데이터 형태가 범주형(도미 또는 빙어, 0과 1)데이터 사용\\n - 분류에 사용되는 모델(클래스)의 이름 뒤에는 \"Classifier\"가 붙어 있습니다.\\n - 분류예측\\n* 회귀 : 종속변수의 데이터 형태가 연속형(무게 또는 길이 등등..)데이터 사용\\n - 회귀에 사용되는 모델(클래스)의 이름 뒤에는 \"Regressor\"가 붙어 있습니다.\\n - 회귀예측\\n \\n<KNN 회귀모델 작동방식>\\n - 분류에서 사용한 방식과 동일하게 임의 예측갑소가 가장 가까운 이웃의 개수 사용\\n - 분류에서는 가장 가까운 이웃의 비율을 이용했다면..\\n - 회귀에서는 가장 가까운 이웃의 평균을 이용합니다.\\n \\n * 분류에서는 범주 데이터가 정해져 있기 때문에 0 또는 1 둘 중 하나의 값을 반환했다면,\\n ** 회귀에서는 이웃의 평균값 또는 평균에 근사한 값을 반환해 줍니다.\\n'"
      ]
     },
     "execution_count": 1,
     "metadata": {},
     "output_type": "execute_result"
    }
   ],
   "source": [
    "\"\"\"\n",
    "* 분류 : 종속변수의 데이터 형태가 범주형(도미 또는 빙어, 0과 1)데이터 사용\n",
    " - 분류에 사용되는 모델(클래스)의 이름 뒤에는 \"Classifier\"가 붙어 있습니다.\n",
    " - 분류예측\n",
    "* 회귀 : 종속변수의 데이터 형태가 연속형(무게 또는 길이 등등..)데이터 사용\n",
    " - 회귀에 사용되는 모델(클래스)의 이름 뒤에는 \"Regressor\"가 붙어 있습니다.\n",
    " - 회귀예측\n",
    " \n",
    "<KNN 회귀모델 작동방식>\n",
    " - 분류에서 사용한 방식과 동일하게 임의 예측값과 가장 가까운 이웃의 개수 사용\n",
    " - 분류에서는 가장 가까운 이웃의 비율을 이용했다면..\n",
    " - 회귀에서는 가장 가까운 이웃의 평균을 이용합니다.\n",
    " \n",
    " * 분류에서는 범주 데이터가 정해져 있기 때문에 0 또는 1 둘 중 하나의 값을 반환했다면,\n",
    " ** 회귀에서는 이웃의 평균값 또는 평균에 근사한 값을 반환해 줍니다.\n",
    "\"\"\""
   ]
  },
  {
   "cell_type": "markdown",
   "id": "969f4a3a",
   "metadata": {},
   "source": [
    "### 데이터 수집"
   ]
  },
  {
   "cell_type": "code",
   "execution_count": 2,
   "id": "d08aa04f",
   "metadata": {},
   "outputs": [
    {
     "data": {
      "text/plain": [
       "'\\n* 농어의 길이만으로 무게 예측하기\\n - 길이 : 독립변수\\n - 무게 : 종속변수\\n'"
      ]
     },
     "execution_count": 2,
     "metadata": {},
     "output_type": "execute_result"
    }
   ],
   "source": [
    "\"\"\"\n",
    "* 농어의 길이만으로 무게 예측하기\n",
    " - 길이 : 독립변수\n",
    " - 무게 : 종속변수\n",
    "\"\"\""
   ]
  },
  {
   "cell_type": "code",
   "execution_count": 3,
   "id": "44df224f",
   "metadata": {},
   "outputs": [],
   "source": [
    "import numpy as np"
   ]
  },
  {
   "cell_type": "code",
   "execution_count": 4,
   "id": "2a88d9c7",
   "metadata": {},
   "outputs": [],
   "source": [
    "### 농어 길이\n",
    "perch_length = np.array(\n",
    "                                [8.4, 13.7, 15.0, 16.2, 17.4, 18.0, 18.7, 19.0, 19.6, 20.0, \n",
    "                                 21.0, 21.0, 21.0, 21.3, 22.0, 22.0, 22.0, 22.0, 22.0, 22.5, \n",
    "                                 22.5, 22.7, 23.0, 23.5, 24.0, 24.0, 24.6, 25.0, 25.6, 26.5, \n",
    "                                 27.3, 27.5, 27.5, 27.5, 28.0, 28.7, 30.0, 32.8, 34.5, 35.0, \n",
    "                                 36.5, 36.0, 37.0, 37.0, 39.0, 39.0, 39.0, 40.0, 40.0, 40.0, \n",
    "                                 40.0, 42.0, 43.0, 43.0, 43.5, 44.0]\n",
    "                                 )\n",
    "\n",
    "### 농어 무게\n",
    "perch_weight = np.array(\n",
    "                                [5.9, 32.0, 40.0, 51.5, 70.0, 100.0, 78.0, 80.0, 85.0, 85.0, \n",
    "                                 110.0, 115.0, 125.0, 130.0, 120.0, 120.0, 130.0, 135.0, 110.0, \n",
    "                                 130.0, 150.0, 145.0, 150.0, 170.0, 225.0, 145.0, 188.0, 180.0, \n",
    "                                 197.0, 218.0, 300.0, 260.0, 265.0, 250.0, 250.0, 300.0, 320.0, \n",
    "                                 514.0, 556.0, 840.0, 685.0, 700.0, 700.0, 690.0, 900.0, 650.0, \n",
    "                                 820.0, 850.0, 900.0, 1015.0, 820.0, 1100.0, 1000.0, 1100.0, \n",
    "                                 1000.0, 1000.0]\n",
    "                                 )"
   ]
  },
  {
   "cell_type": "code",
   "execution_count": 5,
   "id": "4bec14cd",
   "metadata": {},
   "outputs": [
    {
     "data": {
      "text/plain": [
       "((56,), (56,))"
      ]
     },
     "execution_count": 5,
     "metadata": {},
     "output_type": "execute_result"
    }
   ],
   "source": [
    "perch_length.shape, perch_weight.shape"
   ]
  },
  {
   "cell_type": "code",
   "execution_count": 6,
   "id": "0e34ffb2",
   "metadata": {},
   "outputs": [
    {
     "data": {
      "image/png": "[encoded data removed]",
      "text/plain": [
       "<Figure size 640x480 with 1 Axes>"
      ]
     },
     "metadata": {},
     "output_type": "display_data"
    }
   ],
   "source": [
    "### 데이터 시각화하기 : 산점도\n",
    "import matplotlib.pyplot as plt\n",
    "\n",
    "plt.scatter(perch_length, perch_weight, marker=\"*\", c=\"slateblue\", label=\"pred\")\n",
    "\n",
    "plt.xlabel(\"length\")\n",
    "plt.ylabel(\"weight\")\n",
    "\n",
    "plt.show()\n",
    "\n",
    "### (해석)\n",
    "# - 길이의 값이 커질수록, 무게가 커지는 양의 상관관계를 나타내고 있음\n",
    "# - 우상향의 분포를 나타냄\n",
    "# - 초반에는 약간의 라운드(곡선) 형태를 띄다가,\n",
    "# - 중반부터는 직선의 형태를 띕니다.\n",
    "\n",
    "### 회귀에서 사용하는 일반적인 공식\n",
    "# - 직선의 방정식(y) = ax + b\n",
    "#    (x는 독립변수 데이터, a는 가중치값, b는 y절편)\n",
    "# - 포물선의 방정식(y) = ax^2 + bx + c\n",
    "#    (x는 독립변수 데이터, a와 b는 가중치값, c는 y절편)"
   ]
  },
  {
   "cell_type": "markdown",
   "id": "b3666fe4",
   "metadata": {},
   "source": [
    "### 전처리하기"
   ]
  },
  {
   "cell_type": "code",
   "execution_count": 7,
   "id": "a0c78364",
   "metadata": {},
   "outputs": [],
   "source": [
    "### 훈련데이터와 테스트데이터로 분류하기\n",
    "# - 변수명 : train_input, test_input, train_target, test_target\n",
    "# - 랜덤하게 비율에 맞게 분류하는 함수 사용\n",
    "# - 분류 비율은 75 : 25로 합니다."
   ]
  },
  {
   "cell_type": "code",
   "execution_count": 8,
   "id": "df744e13",
   "metadata": {},
   "outputs": [],
   "source": [
    "from sklearn.model_selection import train_test_split"
   ]
  },
  {
   "cell_type": "code",
   "execution_count": 9,
   "id": "e639f9d2",
   "metadata": {},
   "outputs": [
    {
     "name": "stdout",
     "output_type": "stream",
     "text": [
      "(42,) (14,) (42,) (14,)\n"
     ]
    }
   ],
   "source": [
    "### 꼭 암기!!!!(딥러닝 때도 사용함)\n",
    "train_input, test_input, train_target, test_target = train_test_split(perch_length, perch_weight, random_state=42, test_size=0.25)\n",
    "print(train_input.shape, test_input.shape, train_target.shape, test_target.shape)"
   ]
  },
  {
   "cell_type": "code",
   "execution_count": 10,
   "id": "6cd0445b",
   "metadata": {},
   "outputs": [
    {
     "data": {
      "text/plain": [
       "((42, 1), (14, 1))"
      ]
     },
     "execution_count": 10,
     "metadata": {},
     "output_type": "execute_result"
    }
   ],
   "source": [
    "### 독립변수는 2차원으로 사용해야 합니다.\n",
    "# - 넘파이 함수 중에 차원 변환하는 함수 사용\n",
    "# - target 데이터는 절.대! 건들면 안됨\n",
    "# - reshape(행, 열)\n",
    "train_input = train_input.reshape(-1, 1)\n",
    "test_input = test_input.reshape(-1, 1)\n",
    "train_input.shape, test_input.shape"
   ]
  },
  {
   "cell_type": "markdown",
   "id": "dbaa61c1",
   "metadata": {},
   "source": [
    "### 훈련시키기"
   ]
  },
  {
   "cell_type": "code",
   "execution_count": 11,
   "id": "895a0ce9",
   "metadata": {},
   "outputs": [],
   "source": [
    "### KNN 회귀모델 라이브러리 불러들이기\n",
    "from sklearn.neighbors import KNeighborsRegressor"
   ]
  },
  {
   "cell_type": "code",
   "execution_count": 12,
   "id": "c7debca8",
   "metadata": {},
   "outputs": [
    {
     "data": {
      "text/html": [
       "<style>#sk-container-id-1 {color: black;}#sk-container-id-1 pre{padding: 0;}#sk-container-id-1 div.sk-toggleable {background-color: white;}#sk-container-id-1 label.sk-toggleable__label {cursor: pointer;display: block;width: 100%;margin-bottom: 0;padding: 0.3em;box-sizing: border-box;text-align: center;}#sk-container-id-1 label.sk-toggleable__label-arrow:before {content: \"▸\";float: left;margin-right: 0.25em;color: #696969;}#sk-container-id-1 label.sk-toggleable__label-arrow:hover:before {color: black;}#sk-container-id-1 div.sk-estimator:hover label.sk-toggleable__label-arrow:before {color: black;}#sk-container-id-1 div.sk-toggleable__content {max-height: 0;max-width: 0;overflow: hidden;text-align: left;background-color: #f0f8ff;}#sk-container-id-1 div.sk-toggleable__content pre {margin: 0.2em;color: black;border-radius: 0.25em;background-color: #f0f8ff;}#sk-container-id-1 input.sk-toggleable__control:checked~div.sk-toggleable__content {max-height: 200px;max-width: 100%;overflow: auto;}#sk-container-id-1 input.sk-toggleable__control:checked~label.sk-toggleable__label-arrow:before {content: \"▾\";}#sk-container-id-1 div.sk-estimator input.sk-toggleable__control:checked~label.sk-toggleable__label {background-color: #d4ebff;}#sk-container-id-1 div.sk-label input.sk-toggleable__control:checked~label.sk-toggleable__label {background-color: #d4ebff;}#sk-container-id-1 input.sk-hidden--visually {border: 0;clip: rect(1px 1px 1px 1px);clip: rect(1px, 1px, 1px, 1px);height: 1px;margin: -1px;overflow: hidden;padding: 0;position: absolute;width: 1px;}#sk-container-id-1 div.sk-estimator {font-family: monospace;background-color: #f0f8ff;border: 1px dotted black;border-radius: 0.25em;box-sizing: border-box;margin-bottom: 0.5em;}#sk-container-id-1 div.sk-estimator:hover {background-color: #d4ebff;}#sk-container-id-1 div.sk-parallel-item::after {content: \"\";width: 100%;border-bottom: 1px solid gray;flex-grow: 1;}#sk-container-id-1 div.sk-label:hover label.sk-toggleable__label {background-color: #d4ebff;}#sk-container-id-1 div.sk-serial::before {content: \"\";position: absolute;border-left: 1px solid gray;box-sizing: border-box;top: 0;bottom: 0;left: 50%;z-index: 0;}#sk-container-id-1 div.sk-serial {display: flex;flex-direction: column;align-items: center;background-color: white;padding-right: 0.2em;padding-left: 0.2em;position: relative;}#sk-container-id-1 div.sk-item {position: relative;z-index: 1;}#sk-container-id-1 div.sk-parallel {display: flex;align-items: stretch;justify-content: center;background-color: white;position: relative;}#sk-container-id-1 div.sk-item::before, #sk-container-id-1 div.sk-parallel-item::before {content: \"\";position: absolute;border-left: 1px solid gray;box-sizing: border-box;top: 0;bottom: 0;left: 50%;z-index: -1;}#sk-container-id-1 div.sk-parallel-item {display: flex;flex-direction: column;z-index: 1;position: relative;background-color: white;}#sk-container-id-1 div.sk-parallel-item:first-child::after {align-self: flex-end;width: 50%;}#sk-container-id-1 div.sk-parallel-item:last-child::after {align-self: flex-start;width: 50%;}#sk-container-id-1 div.sk-parallel-item:only-child::after {width: 0;}#sk-container-id-1 div.sk-dashed-wrapped {border: 1px dashed gray;margin: 0 0.4em 0.5em 0.4em;box-sizing: border-box;padding-bottom: 0.4em;background-color: white;}#sk-container-id-1 div.sk-label label {font-family: monospace;font-weight: bold;display: inline-block;line-height: 1.2em;}#sk-container-id-1 div.sk-label-container {text-align: center;}#sk-container-id-1 div.sk-container {/* jupyter's `normalize.less` sets `[hidden] { display: none; }` but bootstrap.min.css set `[hidden] { display: none !important; }` so we also need the `!important` here to be able to override the default hidden behavior on the sphinx rendered scikit-learn.org. See: https://github.com/scikit-learn/scikit-learn/issues/21755 */display: inline-block !important;position: relative;}#sk-container-id-1 div.sk-text-repr-fallback {display: none;}</style><div id=\"sk-container-id-1\" class=\"sk-top-container\"><div class=\"sk-text-repr-fallback\"><pre>KNeighborsRegressor()</pre><b>In a Jupyter environment, please rerun this cell to show the HTML representation or trust the notebook. <br />On GitHub, the HTML representation is unable to render, please try loading this page with nbviewer.org.</b></div><div class=\"sk-container\" hidden><div class=\"sk-item\"><div class=\"sk-estimator sk-toggleable\"><input class=\"sk-toggleable__control sk-hidden--visually\" id=\"sk-estimator-id-1\" type=\"checkbox\" checked><label for=\"sk-estimator-id-1\" class=\"sk-toggleable__label sk-toggleable__label-arrow\">KNeighborsRegressor</label><div class=\"sk-toggleable__content\"><pre>KNeighborsRegressor()</pre></div></div></div></div></div>"
      ],
      "text/plain": [
       "KNeighborsRegressor()"
      ]
     },
     "execution_count": 12,
     "metadata": {},
     "output_type": "execute_result"
    }
   ],
   "source": [
    "### 훈련모델 생성하기\n",
    "knr = KNeighborsRegressor()\n",
    "knr"
   ]
  },
  {
   "cell_type": "code",
   "execution_count": 13,
   "id": "a89a72a4",
   "metadata": {},
   "outputs": [
    {
     "data": {
      "text/html": [
       "<style>#sk-container-id-2 {color: black;}#sk-container-id-2 pre{padding: 0;}#sk-container-id-2 div.sk-toggleable {background-color: white;}#sk-container-id-2 label.sk-toggleable__label {cursor: pointer;display: block;width: 100%;margin-bottom: 0;padding: 0.3em;box-sizing: border-box;text-align: center;}#sk-container-id-2 label.sk-toggleable__label-arrow:before {content: \"▸\";float: left;margin-right: 0.25em;color: #696969;}#sk-container-id-2 label.sk-toggleable__label-arrow:hover:before {color: black;}#sk-container-id-2 div.sk-estimator:hover label.sk-toggleable__label-arrow:before {color: black;}#sk-container-id-2 div.sk-toggleable__content {max-height: 0;max-width: 0;overflow: hidden;text-align: left;background-color: #f0f8ff;}#sk-container-id-2 div.sk-toggleable__content pre {margin: 0.2em;color: black;border-radius: 0.25em;background-color: #f0f8ff;}#sk-container-id-2 input.sk-toggleable__control:checked~div.sk-toggleable__content {max-height: 200px;max-width: 100%;overflow: auto;}#sk-container-id-2 input.sk-toggleable__control:checked~label.sk-toggleable__label-arrow:before {content: \"▾\";}#sk-container-id-2 div.sk-estimator input.sk-toggleable__control:checked~label.sk-toggleable__label {background-color: #d4ebff;}#sk-container-id-2 div.sk-label input.sk-toggleable__control:checked~label.sk-toggleable__label {background-color: #d4ebff;}#sk-container-id-2 input.sk-hidden--visually {border: 0;clip: rect(1px 1px 1px 1px);clip: rect(1px, 1px, 1px, 1px);height: 1px;margin: -1px;overflow: hidden;padding: 0;position: absolute;width: 1px;}#sk-container-id-2 div.sk-estimator {font-family: monospace;background-color: #f0f8ff;border: 1px dotted black;border-radius: 0.25em;box-sizing: border-box;margin-bottom: 0.5em;}#sk-container-id-2 div.sk-estimator:hover {background-color: #d4ebff;}#sk-container-id-2 div.sk-parallel-item::after {content: \"\";width: 100%;border-bottom: 1px solid gray;flex-grow: 1;}#sk-container-id-2 div.sk-label:hover label.sk-toggleable__label {background-color: #d4ebff;}#sk-container-id-2 div.sk-serial::before {content: \"\";position: absolute;border-left: 1px solid gray;box-sizing: border-box;top: 0;bottom: 0;left: 50%;z-index: 0;}#sk-container-id-2 div.sk-serial {display: flex;flex-direction: column;align-items: center;background-color: white;padding-right: 0.2em;padding-left: 0.2em;position: relative;}#sk-container-id-2 div.sk-item {position: relative;z-index: 1;}#sk-container-id-2 div.sk-parallel {display: flex;align-items: stretch;justify-content: center;background-color: white;position: relative;}#sk-container-id-2 div.sk-item::before, #sk-container-id-2 div.sk-parallel-item::before {content: \"\";position: absolute;border-left: 1px solid gray;box-sizing: border-box;top: 0;bottom: 0;left: 50%;z-index: -1;}#sk-container-id-2 div.sk-parallel-item {display: flex;flex-direction: column;z-index: 1;position: relative;background-color: white;}#sk-container-id-2 div.sk-parallel-item:first-child::after {align-self: flex-end;width: 50%;}#sk-container-id-2 div.sk-parallel-item:last-child::after {align-self: flex-start;width: 50%;}#sk-container-id-2 div.sk-parallel-item:only-child::after {width: 0;}#sk-container-id-2 div.sk-dashed-wrapped {border: 1px dashed gray;margin: 0 0.4em 0.5em 0.4em;box-sizing: border-box;padding-bottom: 0.4em;background-color: white;}#sk-container-id-2 div.sk-label label {font-family: monospace;font-weight: bold;display: inline-block;line-height: 1.2em;}#sk-container-id-2 div.sk-label-container {text-align: center;}#sk-container-id-2 div.sk-container {/* jupyter's `normalize.less` sets `[hidden] { display: none; }` but bootstrap.min.css set `[hidden] { display: none !important; }` so we also need the `!important` here to be able to override the default hidden behavior on the sphinx rendered scikit-learn.org. See: https://github.com/scikit-learn/scikit-learn/issues/21755 */display: inline-block !important;position: relative;}#sk-container-id-2 div.sk-text-repr-fallback {display: none;}</style><div id=\"sk-container-id-2\" class=\"sk-top-container\"><div class=\"sk-text-repr-fallback\"><pre>KNeighborsRegressor()</pre><b>In a Jupyter environment, please rerun this cell to show the HTML representation or trust the notebook. <br />On GitHub, the HTML representation is unable to render, please try loading this page with nbviewer.org.</b></div><div class=\"sk-container\" hidden><div class=\"sk-item\"><div class=\"sk-estimator sk-toggleable\"><input class=\"sk-toggleable__control sk-hidden--visually\" id=\"sk-estimator-id-2\" type=\"checkbox\" checked><label for=\"sk-estimator-id-2\" class=\"sk-toggleable__label sk-toggleable__label-arrow\">KNeighborsRegressor</label><div class=\"sk-toggleable__content\"><pre>KNeighborsRegressor()</pre></div></div></div></div></div>"
      ],
      "text/plain": [
       "KNeighborsRegressor()"
      ]
     },
     "execution_count": 13,
     "metadata": {},
     "output_type": "execute_result"
    }
   ],
   "source": [
    "### 훈련시키기\n",
    "knr.fit(train_input, train_target)"
   ]
  },
  {
   "cell_type": "code",
   "execution_count": 14,
   "id": "1c2410da",
   "metadata": {},
   "outputs": [
    {
     "data": {
      "text/plain": [
       "0.992809406101064"
      ]
     },
     "execution_count": 14,
     "metadata": {},
     "output_type": "execute_result"
    }
   ],
   "source": [
    "### 정확도 확인하기\n",
    "### 회귀에서는 '정확도'라는 용어 대신에 \"결정계수(R^2)\"을 사용합니다.\n",
    "# - 회귀에서는 정확한 숫자를 맞히는 것은 거의 불가능\n",
    "# - 결정계수 값의 범위 : 0~1 사이의 값\n",
    "#   (1에 가까울수록 학습능력이 좋다라고 표현합니다.)\n",
    "# - 회귀를 해석할 때는 결정계수의 값이 1에 가까울수록 결정력(예측력)이 좋은 모델이라고 판단합니다.\n",
    "knr.score(test_input, test_target)"
   ]
  },
  {
   "cell_type": "markdown",
   "id": "a57000b6",
   "metadata": {},
   "source": [
    "### 예측오차 확인하기"
   ]
  },
  {
   "cell_type": "code",
   "execution_count": 15,
   "id": "4dcfec64",
   "metadata": {},
   "outputs": [],
   "source": [
    "### 테스트데이터를 이용해서 예측오차 확인하기\n",
    "from sklearn.metrics import mean_absolute_error"
   ]
  },
  {
   "cell_type": "code",
   "execution_count": 16,
   "id": "ba3eb3ad",
   "metadata": {},
   "outputs": [
    {
     "data": {
      "text/plain": [
       "array([  60. ,   79.6,  248. ,  122. ,  136. ,  847. ,  311.4,  183.4,\n",
       "        847. ,  113. , 1010. ,   60. ,  248. ,  248. ])"
      ]
     },
     "execution_count": 16,
     "metadata": {},
     "output_type": "execute_result"
    }
   ],
   "source": [
    "test_pred = knr.predict(test_input)\n",
    "test_pred"
   ]
  },
  {
   "cell_type": "code",
   "execution_count": 17,
   "id": "b5912004",
   "metadata": {},
   "outputs": [
    {
     "data": {
      "text/plain": [
       "array([   5.9,  100. ,  250. ,  130. ,  130. ,  820. ,  320. ,  188. ,\n",
       "        900. ,  125. , 1000. ,   51.5,  250. ,  300. ])"
      ]
     },
     "execution_count": 17,
     "metadata": {},
     "output_type": "execute_result"
    }
   ],
   "source": [
    "test_target"
   ]
  },
  {
   "cell_type": "code",
   "execution_count": 18,
   "id": "fa858062",
   "metadata": {},
   "outputs": [
    {
     "data": {
      "text/plain": [
       "19.157142857142862"
      ]
     },
     "execution_count": 18,
     "metadata": {},
     "output_type": "execute_result"
    }
   ],
   "source": [
    "### 예측오차 확인하기\n",
    "# - 평균 절대값 오차를 계산해서 반환해 줍니다.\n",
    "mean_absolute_error(test_target, test_pred)\n",
    "### (해석)\n",
    "# - 해당 모델을 이용해서 예측을 할 경우에는\n",
    "# - 평균적으로 약 19.157g 정도의 차이가 있는 데이터를 예측할 수 있음"
   ]
  },
  {
   "cell_type": "markdown",
   "id": "f0d05455",
   "metadata": {},
   "source": [
    "### 데이터의 정확도(결정력)을 높이기 위한 과적합 여부에 대한 처리"
   ]
  },
  {
   "cell_type": "code",
   "execution_count": 19,
   "id": "5bd217d3",
   "metadata": {},
   "outputs": [
    {
     "data": {
      "text/plain": [
       "'\\n<순서>\\n1. 데이터 수집\\n2. 데이터 전처리(결측치, 중복치, 이상치)\\n3. 데이터 후처리(차원 정의, 정규화, 훈련/테스트 분류)\\n4. 훈련모델 생성\\n5. 훈련시키기\\n6. 훈련모델 정확도(결정계수) 확인하기 (항상 훈련모델 값이 커야 함)\\n7. 정확도(결정계수)가 낮은 경우 \\n   - 과적합여부 확인 및 처리하기(머신러닝에서의 전처리 과정)\\n   - 과적합여부 처리가 있는 경우-> 3번~6번 재확인(하이퍼파라메터 튜닝)\\n8. 예측하기\\n'"
      ]
     },
     "execution_count": 19,
     "metadata": {},
     "output_type": "execute_result"
    }
   ],
   "source": [
    "\"\"\"\n",
    "<순서>\n",
    "1. 데이터 수집\n",
    "2. 데이터 전처리(결측치, 중복치, 이상치)\n",
    "3. 데이터 후처리(차원 정의, 정규화, 훈련/테스트 분류)\n",
    "4. 훈련모델 생성\n",
    "5. 훈련시키기\n",
    "6. 훈련모델 정확도(결정계수) 확인하기 (항상 훈련모델 값이 커야 함)\n",
    "7. 정확도(결정계수)가 낮은 경우 \n",
    "   - 과적합여부 확인 및 처리하기(머신러닝에서의 전처리 과정)\n",
    "   - 과적합여부 처리가 있는 경우-> 3번~6번 재확인(하이퍼파라메터 튜닝)\n",
    "8. 예측하기\n",
    "\"\"\""
   ]
  },
  {
   "cell_type": "code",
   "execution_count": 20,
   "id": "d757b4eb",
   "metadata": {},
   "outputs": [
    {
     "data": {
      "text/plain": [
       "(0.9698823289099254, 0.992809406101064)"
      ]
     },
     "execution_count": 20,
     "metadata": {},
     "output_type": "execute_result"
    }
   ],
   "source": [
    "knr.n_neighbors = 5\n",
    "knr.fit(train_input, train_target)\n",
    "\n",
    "### 훈련 평가결과\n",
    "train_score = knr.score(train_input, train_target)\n",
    "\n",
    "### 테스트 평가결과\n",
    "test_score = knr.score(test_input, test_target)\n",
    "\n",
    "### 훈련 Vs 테스트 결과 확인\n",
    "train_score, test_score\n",
    "\n",
    "### (해석)\n",
    "# 훈련결과가 테스트결과보다 낮게 나왔기 때문에\n",
    "# - 예측모델로 사용할 수 없음\n",
    "# - 즉, 과소적합이 발생한 모델임"
   ]
  },
  {
   "cell_type": "code",
   "execution_count": 21,
   "id": "cb361026",
   "metadata": {},
   "outputs": [
    {
     "data": {
      "text/plain": [
       "(0.9804899950518966, 0.9746459963987609)"
      ]
     },
     "execution_count": 21,
     "metadata": {},
     "output_type": "execute_result"
    }
   ],
   "source": [
    "knr.n_neighbors = 3\n",
    "knr.fit(train_input, train_target)\n",
    "\n",
    "### 훈련 평가결과\n",
    "train_score = knr.score(train_input, train_target)\n",
    "\n",
    "### 테스트 평가결과\n",
    "test_score = knr.score(test_input, test_target)\n",
    "\n",
    "### 훈련 Vs 테스트 결과 확인\n",
    "train_score, test_score\n",
    "\n",
    "### (해석)\n",
    "# 훈련결과가 테스트결과보다 높게 나왔기 때문에\n",
    "# - 예측모델로 사용할 수 있음\n",
    "# - 즉, 과대 및 과소적합이 발생하지 않은 일반화된 모델임"
   ]
  },
  {
   "cell_type": "code",
   "execution_count": 22,
   "id": "95b97253",
   "metadata": {},
   "outputs": [
    {
     "data": {
      "text/plain": [
       "'\\n<과적합 여부는 모델을 평가하기 위한 방법으로 사용>\\n - 모델을 평가한다는 것은 사용할 수 있을지 없을지를 판단하는 기준임\\n * 과소적합 : 훈련정확도 < 테스트정확도\\n * 과대적합 : 훈련정확도 > 테스트정확도 (매우 많이 차이나는 경우)\\n - 과소적합이 발생한 경우에는 훈련모델은 무조건 사용할 수 없음\\n - 과대적합의 범위에 대한 기준은 없으나, 일반적으로 훈련과 테스트의 차이가 0.1을 벗어나는 경우..\\n'"
      ]
     },
     "execution_count": 22,
     "metadata": {},
     "output_type": "execute_result"
    }
   ],
   "source": [
    "\"\"\"\n",
    "<과적합 여부는 모델을 평가하기 위한 방법으로 사용>\n",
    " - 모델을 평가한다는 것은 사용할 수 있을지 없을지를 판단하는 기준임\n",
    " * 과소적합 : 훈련정확도 < 테스트정확도\n",
    " * 과대적합 : 훈련정확도 > 테스트정확도 (매우 많이 차이나는 경우)\n",
    " - 과소적합이 발생한 경우에는 훈련모델은 무조건 사용할 수 없음\n",
    " - 과대적합의 범위에 대한 기준은 없으나, 일반적으로 훈련과 테스트의 차이가 0.1을 벗어나는 경우..\n",
    "\"\"\""
   ]
  },
  {
   "cell_type": "code",
   "execution_count": null,
   "id": "a6273746",
   "metadata": {},
   "outputs": [],
   "source": [
    "### 가장 적합한 이웃의 갯수 확인하기 : 하이퍼파라메터 튜닝\n",
    "# 가장 적합한 이웃의 갯수 확인 방법\n",
    "#  1. 최소적합이 일어나지 않아야 함\n",
    "#  2. 오차평균이 작아야 함\n",
    "#  ** 위 1, 2번을 만족할 때의 이웃의 갯수를 선정하는 것이 일반적임"
   ]
  },
  {
   "cell_type": "code",
   "execution_count": 28,
   "id": "97d1718b",
   "metadata": {},
   "outputs": [],
   "source": [
    "import pandas as pd"
   ]
  },
  {
   "cell_type": "code",
   "execution_count": 42,
   "id": "f48ea494",
   "metadata": {},
   "outputs": [
    {
     "data": {
      "text/html": [
       "<div>\n",
       "<style scoped>\n",
       "    .dataframe tbody tr th:only-of-type {\n",
       "        vertical-align: middle;\n",
       "    }\n",
       "\n",
       "    .dataframe tbody tr th {\n",
       "        vertical-align: top;\n",
       "    }\n",
       "\n",
       "    .dataframe thead th {\n",
       "        text-align: right;\n",
       "    }\n",
       "</style>\n",
       "<table border=\"1\" class=\"dataframe\">\n",
       "  <thead>\n",
       "    <tr style=\"text-align: right;\">\n",
       "      <th></th>\n",
       "      <th>이웃 갯수</th>\n",
       "      <th>훈련데이터</th>\n",
       "      <th>테스트데이터</th>\n",
       "      <th>훈련 - 테스트</th>\n",
       "    </tr>\n",
       "  </thead>\n",
       "  <tbody>\n",
       "    <tr>\n",
       "      <th>0</th>\n",
       "      <td>3</td>\n",
       "      <td>0.980490</td>\n",
       "      <td>0.974646</td>\n",
       "      <td>0.005844</td>\n",
       "    </tr>\n",
       "    <tr>\n",
       "      <th>1</th>\n",
       "      <td>5</td>\n",
       "      <td>0.969882</td>\n",
       "      <td>0.992809</td>\n",
       "      <td>-0.022927</td>\n",
       "    </tr>\n",
       "    <tr>\n",
       "      <th>2</th>\n",
       "      <td>7</td>\n",
       "      <td>0.976117</td>\n",
       "      <td>0.978138</td>\n",
       "      <td>-0.002021</td>\n",
       "    </tr>\n",
       "    <tr>\n",
       "      <th>3</th>\n",
       "      <td>9</td>\n",
       "      <td>0.969331</td>\n",
       "      <td>0.969265</td>\n",
       "      <td>0.000066</td>\n",
       "    </tr>\n",
       "    <tr>\n",
       "      <th>4</th>\n",
       "      <td>11</td>\n",
       "      <td>0.951576</td>\n",
       "      <td>0.970280</td>\n",
       "      <td>-0.018704</td>\n",
       "    </tr>\n",
       "    <tr>\n",
       "      <th>5</th>\n",
       "      <td>13</td>\n",
       "      <td>0.941342</td>\n",
       "      <td>0.963904</td>\n",
       "      <td>-0.022562</td>\n",
       "    </tr>\n",
       "    <tr>\n",
       "      <th>6</th>\n",
       "      <td>15</td>\n",
       "      <td>0.930201</td>\n",
       "      <td>0.955483</td>\n",
       "      <td>-0.025282</td>\n",
       "    </tr>\n",
       "    <tr>\n",
       "      <th>7</th>\n",
       "      <td>17</td>\n",
       "      <td>0.908778</td>\n",
       "      <td>0.931406</td>\n",
       "      <td>-0.022628</td>\n",
       "    </tr>\n",
       "    <tr>\n",
       "      <th>8</th>\n",
       "      <td>19</td>\n",
       "      <td>0.878208</td>\n",
       "      <td>0.900994</td>\n",
       "      <td>-0.022785</td>\n",
       "    </tr>\n",
       "    <tr>\n",
       "      <th>9</th>\n",
       "      <td>21</td>\n",
       "      <td>0.841092</td>\n",
       "      <td>0.859692</td>\n",
       "      <td>-0.018600</td>\n",
       "    </tr>\n",
       "    <tr>\n",
       "      <th>10</th>\n",
       "      <td>23</td>\n",
       "      <td>0.791588</td>\n",
       "      <td>0.814642</td>\n",
       "      <td>-0.023054</td>\n",
       "    </tr>\n",
       "    <tr>\n",
       "      <th>11</th>\n",
       "      <td>25</td>\n",
       "      <td>0.745300</td>\n",
       "      <td>0.766790</td>\n",
       "      <td>-0.021490</td>\n",
       "    </tr>\n",
       "    <tr>\n",
       "      <th>12</th>\n",
       "      <td>27</td>\n",
       "      <td>0.690890</td>\n",
       "      <td>0.713182</td>\n",
       "      <td>-0.022291</td>\n",
       "    </tr>\n",
       "    <tr>\n",
       "      <th>13</th>\n",
       "      <td>29</td>\n",
       "      <td>0.624551</td>\n",
       "      <td>0.642993</td>\n",
       "      <td>-0.018442</td>\n",
       "    </tr>\n",
       "    <tr>\n",
       "      <th>14</th>\n",
       "      <td>31</td>\n",
       "      <td>0.550539</td>\n",
       "      <td>0.565318</td>\n",
       "      <td>-0.014780</td>\n",
       "    </tr>\n",
       "    <tr>\n",
       "      <th>15</th>\n",
       "      <td>33</td>\n",
       "      <td>0.475245</td>\n",
       "      <td>0.483461</td>\n",
       "      <td>-0.008216</td>\n",
       "    </tr>\n",
       "    <tr>\n",
       "      <th>16</th>\n",
       "      <td>35</td>\n",
       "      <td>0.394781</td>\n",
       "      <td>0.395750</td>\n",
       "      <td>-0.000969</td>\n",
       "    </tr>\n",
       "    <tr>\n",
       "      <th>17</th>\n",
       "      <td>37</td>\n",
       "      <td>0.289701</td>\n",
       "      <td>0.278919</td>\n",
       "      <td>0.010783</td>\n",
       "    </tr>\n",
       "    <tr>\n",
       "      <th>18</th>\n",
       "      <td>39</td>\n",
       "      <td>0.181517</td>\n",
       "      <td>0.156391</td>\n",
       "      <td>0.025126</td>\n",
       "    </tr>\n",
       "    <tr>\n",
       "      <th>19</th>\n",
       "      <td>41</td>\n",
       "      <td>0.059782</td>\n",
       "      <td>0.013071</td>\n",
       "      <td>0.046711</td>\n",
       "    </tr>\n",
       "  </tbody>\n",
       "</table>\n",
       "</div>"
      ],
      "text/plain": [
       "    이웃 갯수     훈련데이터    테스트데이터  훈련 - 테스트\n",
       "0       3  0.980490  0.974646  0.005844\n",
       "1       5  0.969882  0.992809 -0.022927\n",
       "2       7  0.976117  0.978138 -0.002021\n",
       "3       9  0.969331  0.969265  0.000066\n",
       "4      11  0.951576  0.970280 -0.018704\n",
       "5      13  0.941342  0.963904 -0.022562\n",
       "6      15  0.930201  0.955483 -0.025282\n",
       "7      17  0.908778  0.931406 -0.022628\n",
       "8      19  0.878208  0.900994 -0.022785\n",
       "9      21  0.841092  0.859692 -0.018600\n",
       "10     23  0.791588  0.814642 -0.023054\n",
       "11     25  0.745300  0.766790 -0.021490\n",
       "12     27  0.690890  0.713182 -0.022291\n",
       "13     29  0.624551  0.642993 -0.018442\n",
       "14     31  0.550539  0.565318 -0.014780\n",
       "15     33  0.475245  0.483461 -0.008216\n",
       "16     35  0.394781  0.395750 -0.000969\n",
       "17     37  0.289701  0.278919  0.010783\n",
       "18     39  0.181517  0.156391  0.025126\n",
       "19     41  0.059782  0.013071  0.046711"
      ]
     },
     "execution_count": 42,
     "metadata": {},
     "output_type": "execute_result"
    }
   ],
   "source": [
    "list_1 = []\n",
    "for n in range(3, len(train_input), 2) :\n",
    "    knr.n_neighbors = n\n",
    "    knr.fit(train_input, train_target)\n",
    "\n",
    "    train_score = knr.score(train_input, train_target)\n",
    "    test_score = knr.score(test_input, test_target)\n",
    "    \n",
    "    # print(n, (train_score - test_score))\n",
    "    \n",
    "    list_0 = [n, train_score, test_score, (train_score - test_score)]\n",
    "    list_1.append(list_0)\n",
    "    \n",
    "    df = pd.DataFrame(list_1, columns = [\"이웃 갯수\", \"훈련데이터\", \"테스트데이터\", \"훈련 - 테스트\"])\n",
    "df"
   ]
  },
  {
   "cell_type": "code",
   "execution_count": 43,
   "id": "ed130b14",
   "metadata": {},
   "outputs": [
    {
     "data": {
      "text/html": [
       "<div>\n",
       "<style scoped>\n",
       "    .dataframe tbody tr th:only-of-type {\n",
       "        vertical-align: middle;\n",
       "    }\n",
       "\n",
       "    .dataframe tbody tr th {\n",
       "        vertical-align: top;\n",
       "    }\n",
       "\n",
       "    .dataframe thead th {\n",
       "        text-align: right;\n",
       "    }\n",
       "</style>\n",
       "<table border=\"1\" class=\"dataframe\">\n",
       "  <thead>\n",
       "    <tr style=\"text-align: right;\">\n",
       "      <th></th>\n",
       "      <th>이웃 갯수</th>\n",
       "      <th>훈련데이터</th>\n",
       "      <th>테스트데이터</th>\n",
       "      <th>훈련 - 테스트</th>\n",
       "    </tr>\n",
       "  </thead>\n",
       "  <tbody>\n",
       "    <tr>\n",
       "      <th>0</th>\n",
       "      <td>3</td>\n",
       "      <td>0.980490</td>\n",
       "      <td>0.974646</td>\n",
       "      <td>0.005844</td>\n",
       "    </tr>\n",
       "    <tr>\n",
       "      <th>3</th>\n",
       "      <td>9</td>\n",
       "      <td>0.969331</td>\n",
       "      <td>0.969265</td>\n",
       "      <td>0.000066</td>\n",
       "    </tr>\n",
       "    <tr>\n",
       "      <th>17</th>\n",
       "      <td>37</td>\n",
       "      <td>0.289701</td>\n",
       "      <td>0.278919</td>\n",
       "      <td>0.010783</td>\n",
       "    </tr>\n",
       "    <tr>\n",
       "      <th>18</th>\n",
       "      <td>39</td>\n",
       "      <td>0.181517</td>\n",
       "      <td>0.156391</td>\n",
       "      <td>0.025126</td>\n",
       "    </tr>\n",
       "    <tr>\n",
       "      <th>19</th>\n",
       "      <td>41</td>\n",
       "      <td>0.059782</td>\n",
       "      <td>0.013071</td>\n",
       "      <td>0.046711</td>\n",
       "    </tr>\n",
       "  </tbody>\n",
       "</table>\n",
       "</div>"
      ],
      "text/plain": [
       "    이웃 갯수     훈련데이터    테스트데이터  훈련 - 테스트\n",
       "0       3  0.980490  0.974646  0.005844\n",
       "3       9  0.969331  0.969265  0.000066\n",
       "17     37  0.289701  0.278919  0.010783\n",
       "18     39  0.181517  0.156391  0.025126\n",
       "19     41  0.059782  0.013071  0.046711"
      ]
     },
     "execution_count": 43,
     "metadata": {},
     "output_type": "execute_result"
    }
   ],
   "source": [
    "df[df[\"훈련 - 테스트\"] > 0]"
   ]
  },
  {
   "cell_type": "code",
   "execution_count": 45,
   "id": "3222437e",
   "metadata": {},
   "outputs": [
    {
     "name": "stdout",
     "output_type": "stream",
     "text": [
      "[0.9804899950518966, 0.9698823289099254, 0.9761170732051527, 0.9693310367551284, 0.9515761381539326, 0.9413423450130075, 0.930201118360776, 0.9087778943199959, 0.8782082893573573]\n",
      "[0.9746459963987609, 0.992809406101064, 0.9781383949643516, 0.9692647749722698, 0.970279643030474, 0.9639044643206888, 0.9554827691127018, 0.9314058693169347, 0.900993697623706]\n",
      "[35.42380952380951, 19.157142857142862, 32.512244897959185, 43.987301587301594, 43.43896103896105, 45.42197802197802, 49.852380952380955, 60.017647058823535, 69.05413533834586]\n"
     ]
    }
   ],
   "source": [
    "### 강사님\n",
    "cnt = 21\n",
    "train_score_list = []\n",
    "test_score_list = []\n",
    "mae_list = []\n",
    "\n",
    "for n in range(3, cnt, 2) :\n",
    "    ### 이웃의 갯수 정의하기\n",
    "    knr.n_neighbors = n\n",
    "    \n",
    "    ### 훈련시키기\n",
    "    knr.fit(train_input, train_target)\n",
    "    \n",
    "    ### 훈련 결정계수(정확도)\n",
    "    train_score_list.append(knr.score(train_input, train_target))\n",
    "    \n",
    "    ### 테스트 결정계수(정확도)\n",
    "    test_score_list.append(knr.score(test_input, test_target))\n",
    "    \n",
    "    ### 예측하기\n",
    "    test_pred = knr.predict(test_input)\n",
    "    \n",
    "    ### 평균절대오차값\n",
    "    mae_list.append(mean_absolute_error(test_target, test_pred))\n",
    "    \n",
    "print(train_score_list)\n",
    "print(test_score_list)\n",
    "print(mae_list)"
   ]
  },
  {
   "cell_type": "code",
   "execution_count": 49,
   "id": "58448d3b",
   "metadata": {},
   "outputs": [
    {
     "data": {
      "text/html": [
       "<div>\n",
       "<style scoped>\n",
       "    .dataframe tbody tr th:only-of-type {\n",
       "        vertical-align: middle;\n",
       "    }\n",
       "\n",
       "    .dataframe tbody tr th {\n",
       "        vertical-align: top;\n",
       "    }\n",
       "\n",
       "    .dataframe thead th {\n",
       "        text-align: right;\n",
       "    }\n",
       "</style>\n",
       "<table border=\"1\" class=\"dataframe\">\n",
       "  <thead>\n",
       "    <tr style=\"text-align: right;\">\n",
       "      <th></th>\n",
       "      <th>n_neighbors</th>\n",
       "      <th>train_score</th>\n",
       "      <th>test_score</th>\n",
       "      <th>minus</th>\n",
       "      <th>mae</th>\n",
       "    </tr>\n",
       "  </thead>\n",
       "  <tbody>\n",
       "    <tr>\n",
       "      <th>0</th>\n",
       "      <td>3</td>\n",
       "      <td>0.980490</td>\n",
       "      <td>0.974646</td>\n",
       "      <td>0.005844</td>\n",
       "      <td>35.423810</td>\n",
       "    </tr>\n",
       "    <tr>\n",
       "      <th>1</th>\n",
       "      <td>5</td>\n",
       "      <td>0.969882</td>\n",
       "      <td>0.992809</td>\n",
       "      <td>-0.022927</td>\n",
       "      <td>19.157143</td>\n",
       "    </tr>\n",
       "    <tr>\n",
       "      <th>2</th>\n",
       "      <td>7</td>\n",
       "      <td>0.976117</td>\n",
       "      <td>0.978138</td>\n",
       "      <td>-0.002021</td>\n",
       "      <td>32.512245</td>\n",
       "    </tr>\n",
       "    <tr>\n",
       "      <th>3</th>\n",
       "      <td>9</td>\n",
       "      <td>0.969331</td>\n",
       "      <td>0.969265</td>\n",
       "      <td>0.000066</td>\n",
       "      <td>43.987302</td>\n",
       "    </tr>\n",
       "    <tr>\n",
       "      <th>4</th>\n",
       "      <td>11</td>\n",
       "      <td>0.951576</td>\n",
       "      <td>0.970280</td>\n",
       "      <td>-0.018704</td>\n",
       "      <td>43.438961</td>\n",
       "    </tr>\n",
       "    <tr>\n",
       "      <th>5</th>\n",
       "      <td>13</td>\n",
       "      <td>0.941342</td>\n",
       "      <td>0.963904</td>\n",
       "      <td>-0.022562</td>\n",
       "      <td>45.421978</td>\n",
       "    </tr>\n",
       "    <tr>\n",
       "      <th>6</th>\n",
       "      <td>15</td>\n",
       "      <td>0.930201</td>\n",
       "      <td>0.955483</td>\n",
       "      <td>-0.025282</td>\n",
       "      <td>49.852381</td>\n",
       "    </tr>\n",
       "    <tr>\n",
       "      <th>7</th>\n",
       "      <td>17</td>\n",
       "      <td>0.908778</td>\n",
       "      <td>0.931406</td>\n",
       "      <td>-0.022628</td>\n",
       "      <td>60.017647</td>\n",
       "    </tr>\n",
       "    <tr>\n",
       "      <th>8</th>\n",
       "      <td>19</td>\n",
       "      <td>0.878208</td>\n",
       "      <td>0.900994</td>\n",
       "      <td>-0.022785</td>\n",
       "      <td>69.054135</td>\n",
       "    </tr>\n",
       "  </tbody>\n",
       "</table>\n",
       "</div>"
      ],
      "text/plain": [
       "   n_neighbors  train_score  test_score     minus        mae\n",
       "0            3     0.980490    0.974646  0.005844  35.423810\n",
       "1            5     0.969882    0.992809 -0.022927  19.157143\n",
       "2            7     0.976117    0.978138 -0.002021  32.512245\n",
       "3            9     0.969331    0.969265  0.000066  43.987302\n",
       "4           11     0.951576    0.970280 -0.018704  43.438961\n",
       "5           13     0.941342    0.963904 -0.022562  45.421978\n",
       "6           15     0.930201    0.955483 -0.025282  49.852381\n",
       "7           17     0.908778    0.931406 -0.022628  60.017647\n",
       "8           19     0.878208    0.900994 -0.022785  69.054135"
      ]
     },
     "execution_count": 49,
     "metadata": {},
     "output_type": "execute_result"
    }
   ],
   "source": [
    "### 데이터프레임으로 만들기\n",
    "df = pd.DataFrame([[n, train_s, test_s, train_s-test_s,mae]\n",
    "                     for n, train_s, test_s, mae \n",
    "                     in zip(range(3, cnt, 2), train_score_list, test_score_list, mae_list)],\n",
    "                     columns=[\"n_neighbors\", \"train_score\", \"test_score\", \"minus\", \"mae\"])\n",
    "df\n",
    "\n",
    "### (해석)\n",
    "# - 이웃의 갯수 3일 때와 9일 때가 과소적합이 일어나지 않으며, 이 때는 과대적합도 일어나지 않음\n",
    "# - 이웃의 갯수 3일 때와 9일 때 중에 오차평균이 가장 작은 3일 때의 값을 선택\n",
    "# - 나머지 이웃들은 과소적합(음수값)이 일어났기에 훈련모델로는 적합하지 않음\n",
    "# ** 최종 결론,\n",
    "#    - 이웃의 갯수 3일 때 과대/과소 적합이 일어나지 않으며, 오차평균이 가장 작음\n",
    "#    - 이웃의 갯수 3일 때 훈련모델의 정확도(결정계수)는 0.98로 매우 훌륭한 모델로 여겨짐"
   ]
  },
  {
   "cell_type": "code",
   "execution_count": 61,
   "id": "4666bf5e",
   "metadata": {},
   "outputs": [
    {
     "data": {
      "image/png": "[encoded data removed]",
      "text/plain": [
       "<Figure size 640x480 with 1 Axes>"
      ]
     },
     "metadata": {},
     "output_type": "display_data"
    }
   ],
   "source": [
    "### 선그래프로 그리기\n",
    "# - 이웃의 갯수일 때의, 훈련 및 테스트 정확도를 선그래프로 그리기\n",
    "# - x축은 이웃의 갯수가 되며, y축은 훈련 및 테스트의 정확도(결정계수)가 됩니다.\n",
    "df.plot(\"n_neighbors\", [\"train_score\", \"test_score\"])\n",
    "\n",
    "plt.xlabel(\"n_neighbors\")\n",
    "plt.ylabel(\"score\")\n",
    "plt.grid()\n",
    "plt.show()"
   ]
  },
  {
   "cell_type": "code",
   "execution_count": 64,
   "id": "24559768",
   "metadata": {},
   "outputs": [
    {
     "data": {
      "image/png": "[encoded data removed]",
      "text/plain": [
       "<Figure size 640x480 with 1 Axes>"
      ]
     },
     "metadata": {},
     "output_type": "display_data"
    }
   ],
   "source": [
    "### 강사님\n",
    "plt.plot(train_score_list, label=\"train_score\")\n",
    "plt.plot(test_score_list, label=\"test_score\")\n",
    "# - xticks(현재 x축 값, 바꿀 x축 값)\n",
    "plt.xticks(range(0, 9), range(3, cnt, 2))\n",
    "plt.legend()\n",
    "plt.show()"
   ]
  },
  {
   "cell_type": "code",
   "execution_count": null,
   "id": "d5d98751",
   "metadata": {},
   "outputs": [],
   "source": []
  },
  {
   "cell_type": "code",
   "execution_count": null,
   "id": "58de9336",
   "metadata": {},
   "outputs": [],
   "source": []
  },
  {
   "cell_type": "code",
   "execution_count": null,
   "id": "fd8d9dfc",
   "metadata": {},
   "outputs": [],
   "source": []
  },
  {
   "cell_type": "code",
   "execution_count": null,
   "id": "aceecc30",
   "metadata": {},
   "outputs": [],
   "source": []
  },
  {
   "cell_type": "code",
   "execution_count": null,
   "id": "90dff2c1",
   "metadata": {},
   "outputs": [],
   "source": []
  }
 ],
 "metadata": {
  "kernelspec": {
   "display_name": "edu_env_kernel",
   "language": "python",
   "name": "edu_env"
  },
  "language_info": {
   "codemirror_mode": {
    "name": "ipython",
    "version": 3
   },
   "file_extension": ".py",
   "mimetype": "text/x-python",
   "name": "python",
   "nbconvert_exporter": "python",
   "pygments_lexer": "ipython3",
   "version": "3.9.17"
  }
 },
 "nbformat": 4,
 "nbformat_minor": 5
}
